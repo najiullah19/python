{
 "cells": [
  {
   "cell_type": "markdown",
   "metadata": {},
   "source": [
    "### 1. Write a Python program to print the following string in a specific format (see the output).\n",
    "## Twinkle, twinkle, little star, \n",
    "##             How I wonder what you are! \n",
    "##                     Up above the world so high, \n",
    "##                     Like a    diamond in the sky.\n",
    "## Twinkle, twinkle, little star,\n",
    "##            How I wonder what you are"
   ]
  },
  {
   "cell_type": "code",
   "execution_count": 1,
   "metadata": {},
   "outputs": [
    {
     "name": "stdout",
     "output_type": "stream",
     "text": [
      "Twinkle, twinkle, little star, \n",
      "\tHow I wonder what you are! \n",
      "\t\tUp above the world so high, \n",
      "\t\tLike a diamond in the sky. \n",
      " Twinkle, twinkle, little star, \n",
      "\tHow I wonder what you are!\n"
     ]
    }
   ],
   "source": [
    "x=\"Twinkle, twinkle, little star,\"\n",
    "y=\"\\n\\tHow I wonder what you are!\" \n",
    "z=\"\\n\\t\\tUp above the world so high,\" \n",
    "g=\"\\n\\t\\tLike a diamond in the sky.\"\n",
    "print(x,y,z,g,\"\\n\",x,y)"
   ]
  },
  {
   "cell_type": "markdown",
   "metadata": {},
   "source": [
    "### 2.Write a Python program to get the Python version you are using."
   ]
  },
  {
   "cell_type": "code",
   "execution_count": 2,
   "metadata": {},
   "outputs": [
    {
     "data": {
      "text/plain": [
       "'3.6.5 |Anaconda, Inc.| (default, Mar 29 2018, 13:32:41) [MSC v.1900 64 bit (AMD64)]'"
      ]
     },
     "execution_count": 2,
     "metadata": {},
     "output_type": "execute_result"
    }
   ],
   "source": [
    "import sys #here we import library that are \"Built In\" in pythion\n",
    "sys.version"
   ]
  },
  {
   "cell_type": "markdown",
   "metadata": {},
   "source": [
    "###  3.Write a Python program to display the current date and time."
   ]
  },
  {
   "cell_type": "code",
   "execution_count": 3,
   "metadata": {},
   "outputs": [
    {
     "name": "stdout",
     "output_type": "stream",
     "text": [
      "Today's date: 2019-11-05 19:45:42.691329\n",
      "Date AND Time = 05/11/2019 AND 19:45:42\n"
     ]
    }
   ],
   "source": [
    "from datetime import datetime\n",
    "\n",
    "# datetime object containing current date and time\n",
    "now = datetime.now()\n",
    "print(\"Today's date:\", now)\n",
    "\n",
    "# dd/mm/YY H:M:S\n",
    "dt_string = now.strftime(\"%d/%m/%Y AND %H:%M:%S\")\n",
    "print(\"Date AND Time =\", dt_string)"
   ]
  },
  {
   "cell_type": "markdown",
   "metadata": {},
   "source": [
    "### 4. Write a Python program which accepts the radius of a circle from the user and compute the area."
   ]
  },
  {
   "cell_type": "code",
   "execution_count": 4,
   "metadata": {},
   "outputs": [
    {
     "name": "stdout",
     "output_type": "stream",
     "text": [
      "Enter radius of circle: 3\n",
      "The area of cicle is:  28.27\n"
     ]
    }
   ],
   "source": [
    "r = int(input(\"Enter radius of circle: \"))\n",
    "# area pie r square\n",
    "area=(3.14159)*(r**2)\n",
    "print(\"The area of cicle is: \",round(area,2))"
   ]
  },
  {
   "cell_type": "markdown",
   "metadata": {},
   "source": [
    "### 5. Write a Python program which accepts the user's first and last name and print them in reverse order with a space between them."
   ]
  },
  {
   "cell_type": "code",
   "execution_count": 5,
   "metadata": {},
   "outputs": [
    {
     "name": "stdout",
     "output_type": "stream",
     "text": [
      "Enter your first name: Huzaifa\n",
      "Enter your last name: Zafar\n",
      "Reverse of your name is:  rafaZ afiazuH\n"
     ]
    }
   ],
   "source": [
    "first_name = input(\"Enter your first name: \")\n",
    "last_name =  input(\"Enter your last name: \")\n",
    "c = first_name+\" \"+last_name\n",
    "print(\"Reverse of your name is: \",c[::-1])"
   ]
  },
  {
   "cell_type": "markdown",
   "metadata": {},
   "source": [
    "### 6. Write a python program which takes two inputs from user and print them addition"
   ]
  },
  {
   "cell_type": "code",
   "execution_count": 6,
   "metadata": {},
   "outputs": [
    {
     "name": "stdout",
     "output_type": "stream",
     "text": [
      "Enter a first number: 3\n",
      "Enter a second number: 111\n",
      "addition of your given numbers is:  114\n"
     ]
    }
   ],
   "source": [
    "x = int(input(\"Enter a first number: \"))\n",
    "y = int(input(\"Enter a second number: \"))\n",
    "print(\"addition of your given numbers is: \",x + y)"
   ]
  }
 ],
 "metadata": {
  "kernelspec": {
   "display_name": "Python 3",
   "language": "python",
   "name": "python3"
  },
  "language_info": {
   "codemirror_mode": {
    "name": "ipython",
    "version": 3
   },
   "file_extension": ".py",
   "mimetype": "text/x-python",
   "name": "python",
   "nbconvert_exporter": "python",
   "pygments_lexer": "ipython3",
   "version": "3.6.5"
  }
 },
 "nbformat": 4,
 "nbformat_minor": 2
}
